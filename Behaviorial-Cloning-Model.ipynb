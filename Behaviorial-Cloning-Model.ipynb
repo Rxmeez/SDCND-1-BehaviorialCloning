{
 "cells": [
  {
   "cell_type": "code",
   "execution_count": 91,
   "metadata": {},
   "outputs": [],
   "source": [
    "import csv\n",
    "import cv2\n",
    "import math\n",
    "import numpy as np\n",
    "import matplotlib.pyplot as plt\n",
    "from keras.models import Sequential\n",
    "from keras.layers import Flatten, Dense, Lambda, Cropping2D, Dropout\n",
    "from keras.layers.convolutional import Convolution2D\n",
    "import sklearn\n",
    "from sklearn.model_selection import train_test_split"
   ]
  },
  {
   "cell_type": "code",
   "execution_count": 92,
   "metadata": {
    "collapsed": true
   },
   "outputs": [],
   "source": [
    "ch, row, col = 3, 160, 320  # Image format"
   ]
  },
  {
   "cell_type": "code",
   "execution_count": 93,
   "metadata": {
    "collapsed": true
   },
   "outputs": [],
   "source": [
    "def crop_resize(image):\n",
    "    # TODO: create a function that will take the image in crop and resize\n",
    "    # Crop top and bottom \n",
    "    shape = image.shape\n",
    "    image = image[math.floor(shape[0]/5):shape[0]-25, 0:shape[1]]\n",
    "    # Resize to (64, 64) as shown by NVIDIA model\n",
    "    image = cv2.resize(image, (64, 64), interpolation=cv2.INTER_AREA)\n",
    "    return image"
   ]
  },
  {
   "cell_type": "code",
   "execution_count": 58,
   "metadata": {
    "collapsed": true
   },
   "outputs": [],
   "source": [
    "def flip_vertical(image, angle):\n",
    "    \"\"\"\n",
    "    Flips images and angle on a vertical line\n",
    "    i.e right(+1) becomes left(-1)\n",
    "    \"\"\"\n",
    "    flip_image = cv2.flip(image, 1)\n",
    "    flip_angle = angle * (-1.0)\n",
    "    return (flip_image, flip_angle)"
   ]
  },
  {
   "cell_type": "code",
   "execution_count": 59,
   "metadata": {
    "collapsed": true
   },
   "outputs": [],
   "source": [
    "def img_to_YUV(img):\n",
    "    \"\"\" Converted Image from BGR to RGB \"\"\"\n",
    "    img = cv2.cvtColor(img, cv2.COLOR_RGB2HSV)\n",
    "    return img"
   ]
  },
  {
   "cell_type": "code",
   "execution_count": 82,
   "metadata": {
    "collapsed": true
   },
   "outputs": [],
   "source": [
    "samples = []\n",
    "with open('./data/driving_log.csv') as csvfile:\n",
    "    reader = csv.reader(csvfile)\n",
    "    for line in reader:\n",
    "        samples.append(line)"
   ]
  },
  {
   "cell_type": "code",
   "execution_count": 83,
   "metadata": {},
   "outputs": [
    {
     "name": "stdout",
     "output_type": "stream",
     "text": [
      "6047\n"
     ]
    }
   ],
   "source": [
    "print(len(samples))"
   ]
  },
  {
   "cell_type": "code",
   "execution_count": 95,
   "metadata": {},
   "outputs": [
    {
     "name": "stdout",
     "output_type": "stream",
     "text": [
      "0.3647059\n",
      "<class 'float'>\n"
     ]
    },
    {
     "data": {
      "image/png": "[encoded data removed]",
      "text/plain": [
       "<matplotlib.figure.Figure at 0x7f46086ca4e0>"
      ]
     },
     "metadata": {},
     "output_type": "display_data"
    },
    {
     "name": "stdout",
     "output_type": "stream",
     "text": [
      "-0.3647059\n"
     ]
    }
   ],
   "source": [
    "whichline = 3500\n",
    "filename = samples[whichline][0].split('/')[-1]\n",
    "current_path = \"./data/IMG/{}\".format(filename)\n",
    "steering = float(samples[whichline][3])\n",
    "print(steering)\n",
    "print(type(steering))\n",
    "img = img_to_YUV(cv2.imread(current_path))\n",
    "img = crop_resize(img)\n",
    "img, steering = flip_vertical(img, steering)\n",
    "plt.imshow(img)\n",
    "plt.show()\n",
    "print(steering)"
   ]
  },
  {
   "cell_type": "code",
   "execution_count": 7,
   "metadata": {
    "collapsed": true
   },
   "outputs": [],
   "source": [
    "train_samples, validation_samples = train_test_split(samples, test_size=0.2)"
   ]
  },
  {
   "cell_type": "code",
   "execution_count": 8,
   "metadata": {
    "collapsed": true
   },
   "outputs": [],
   "source": [
    "def generator(samples, batch_size=32):\n",
    "    num_samples = len(samples)\n",
    "    while 1:  # Loop forever so the generator never terminates\n",
    "            sklearn.utils.shuffle(samples)\n",
    "            for offset in range(0, num_samples, batch_size):\n",
    "                batch_samples = samples[offset:offset + batch_size]\n",
    "\n",
    "                images = []\n",
    "                measurements = []\n",
    "                for batch_sample in batch_samples:\n",
    "                    for i in range(3):\n",
    "                        # Source for image (center[0], left[1], right[2])\n",
    "                        filename = line[i].split('/')[-1]\n",
    "                        current_path = \"./data/IMG/{}\".format(filename)\n",
    "                        # Image Color filter\n",
    "                        img = img_to_YUV(cv2.imread(current_path))\n",
    "                        # Getting steering correction for images left and right\n",
    "                        correction = 0.25\n",
    "                        steering = float(line[3])\n",
    "                        if i == 1:\n",
    "                            steering = steering + correction\n",
    "                        elif i == 2:\n",
    "                            steering = steering - correction\n",
    "                        else:\n",
    "                            steering = steering\n",
    "                        # Augment a flip of the image\n",
    "                        aug_img, aug_steering = flip_vertical(img, steering)\n",
    "                        # Append all the images and measurements\n",
    "                        images.extend((img, aug_img))\n",
    "                        measurements.extend((steering, aug_steering))\n",
    "\n",
    "                X_train = np.array(images)\n",
    "                y_train = np.array(measurements)\n",
    "                yield sklearn.utils.shuffle(X_train, y_train)"
   ]
  }
 ],
 "metadata": {
  "kernelspec": {
   "display_name": "Python 3",
   "language": "python",
   "name": "python3"
  },
  "language_info": {
   "codemirror_mode": {
    "name": "ipython",
    "version": 3
   },
   "file_extension": ".py",
   "mimetype": "text/x-python",
   "name": "python",
   "nbconvert_exporter": "python",
   "pygments_lexer": "ipython3",
   "version": "3.5.2"
  }
 },
 "nbformat": 4,
 "nbformat_minor": 2
}
